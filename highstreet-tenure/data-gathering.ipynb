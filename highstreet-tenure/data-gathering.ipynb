{
 "cells": [
  {
   "cell_type": "markdown",
   "metadata": {},
   "source": [
    "# Gathering data from council XLS files"
   ]
  },
  {
   "cell_type": "code",
   "execution_count": 1,
   "metadata": {},
   "outputs": [
    {
     "name": "stdout",
     "output_type": "stream",
     "text": [
      "a\n"
     ]
    }
   ],
   "source": [
    "# urls\n",
    "NNDR_new_business_urls = [\n",
    "    \"https://www.stalbans.gov.uk/sites/default/files/attachments/NNDR_New%20Businesses%20December%202024%20to%20May%202025.xlsx\",\n",
    "    \"\"\n",
    "]\n",
    "\n",
    "NNDR_accounts_with_relief_urls = [\n",
    "    \"https://www.stalbans.gov.uk/sites/default/files/attachments/NNDR%20Accounts%20with%20a%20relief_June%202025.xlsx\"\n",
    "]\n",
    "\n",
    "NNDR_accounts_with_no_relief_urls = [\n",
    "    \"https://www.stalbans.gov.uk/sites/default/files/attachments/NNDR%20Accounts%20With%20No%20Relief_June%202025.xlsx\"\n",
    "]\n",
    "\n",
    "NNDR_closed_account_in_credit_urls =  [\n",
    "    \"https://www.stalbans.gov.uk/sites/default/files/attachments/NNDR%20Closed%20Accounts%20in%20Credit_30.05.2025.xlsx\"\n",
    "]\n",
    "\n",
    "NNDR_current_accounts_in_credit_urls = [\n",
    "    \"https://www.stalbans.gov.uk/sites/default/files/attachments/NNDR%20Current%20Accounts%20in%20Credit_30.05.2025.xlsx\"\n",
    "]\n",
    "\n"
   ]
  }
 ],
 "metadata": {
  "kernelspec": {
   "display_name": "Python 3",
   "language": "python",
   "name": "python3"
  },
  "language_info": {
   "codemirror_mode": {
    "name": "ipython",
    "version": 3
   },
   "file_extension": ".py",
   "mimetype": "text/x-python",
   "name": "python",
   "nbconvert_exporter": "python",
   "pygments_lexer": "ipython3",
   "version": "3.10.18"
  }
 },
 "nbformat": 4,
 "nbformat_minor": 2
}
