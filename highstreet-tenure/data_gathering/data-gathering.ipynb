{
 "cells": [
  {
   "cell_type": "code",
   "execution_count": null,
   "metadata": {},
   "outputs": [],
   "source": [
    "%pip install pandas"
   ]
  },
  {
   "cell_type": "markdown",
   "metadata": {},
   "source": [
    "# Gathering data from council XLS files"
   ]
  },
  {
   "cell_type": "code",
   "execution_count": 15,
   "metadata": {},
   "outputs": [],
   "source": [
    "import pandas as pd\n",
    "import requests\n",
    "import os\n",
    "\n",
    "# Create list of target URLs to download\n",
    "classified_urls_df = pd.read_csv('../wayback/url_classified.csv')\n",
    "classified_urls_df['target_url'] = classified_urls_df['wayback_download_url'].str.split('id_/').str[1]\n",
    "\n",
    "list_new_businesses = classified_urls_df[classified_urls_df['category'] == 'new_businesses']['target_url'].dropna().unique()\n",
    "list_accounts_no_relief = classified_urls_df[classified_urls_df['category'] == 'accounts_no_relief']['target_url'].dropna().unique()\n",
    "list_account_relief = classified_urls_df[classified_urls_df['category'] == 'accounts_relief']['target_url'].dropna().unique()\n",
    "list_accouts_closed = classified_urls_df[classified_urls_df['category'] == 'accounts_closed']['target_url'].dropna().unique()\n",
    "list_account_current_in_credit = classified_urls_df[classified_urls_df['category'] == 'accounts_current_in_credit']['target_url'].dropna().unique()\n",
    "\n",
    "# Download raw files to local\n",
    "save_dirs = ['new_businesses', 'accounts_no_relief', 'accounts_relief', 'accounts_closed', 'accounts_current_in_credit']\n",
    "\n",
    "config = {\n",
    "    'new_businesses': {\n",
    "        'urls': list_new_businesses,\n",
    "        'save_dir': 'new_businesses',\n",
    "    },\n",
    "    'accounts_no_relief': {\n",
    "        'urls': list_accounts_no_relief,\n",
    "        'save_dir': 'accounts_no_relief',\n",
    "    },\n",
    "    'accounts_relief': {\n",
    "        'urls': list_account_relief,\n",
    "        'save_dir': 'accounts_relief',\n",
    "    },\n",
    "    'accounts_closed': {\n",
    "        'urls': list_accouts_closed,\n",
    "        'save_dir': 'accounts_closed',\n",
    "    },\n",
    "    'accounts_current_in_credit': {\n",
    "        'urls': list_account_current_in_credit,\n",
    "        'save_dir': 'accounts_current_in_credit',\n",
    "    },\n",
    "}\n",
    "\n",
    "for save_dir in save_dirs:\n",
    "    os.makedirs('raw_files/' + save_dir, exist_ok=True)\n",
    "\n",
    "for category, config in config.items():\n",
    "    for url in config['urls']:\n",
    "        raw_file_name = url.split('/')[-1]\n",
    "        # Stream the content and write it to disk\n",
    "        with requests.get(url, stream=True) as r:\n",
    "            r.raise_for_status()  # raises exception if download failed\n",
    "            with open('raw_files/' + config['save_dir'] + '/' + raw_file_name, \"wb\") as f:\n",
    "                for chunk in r.iter_content(chunk_size=8192):\n",
    "                    f.write(chunk)\n"
   ]
  },
  {
   "cell_type": "code",
   "execution_count": 1,
   "metadata": {},
   "outputs": [
    {
     "name": "stdout",
     "output_type": "stream",
     "text": [
      "a\n"
     ]
    }
   ],
   "source": []
  },
  {
   "cell_type": "code",
   "execution_count": 4,
   "metadata": {},
   "outputs": [
    {
     "name": "stdout",
     "output_type": "stream",
     "text": [
      "Collecting bs4\n",
      "  Downloading bs4-0.0.2-py2.py3-none-any.whl.metadata (411 bytes)\n",
      "Requirement already satisfied: beautifulsoup4 in /Users/samydoreau/Library/Python/3.10/lib/python/site-packages (from bs4) (4.12.2)\n",
      "Requirement already satisfied: soupsieve>1.2 in /Users/samydoreau/Library/Python/3.10/lib/python/site-packages (from beautifulsoup4->bs4) (2.4.1)\n",
      "Downloading bs4-0.0.2-py2.py3-none-any.whl (1.2 kB)\n",
      "Installing collected packages: bs4\n",
      "Successfully installed bs4-0.0.2\n",
      "\n",
      "\u001b[1m[\u001b[0m\u001b[34;49mnotice\u001b[0m\u001b[1;39;49m]\u001b[0m\u001b[39;49m A new release of pip is available: \u001b[0m\u001b[31;49m25.1.1\u001b[0m\u001b[39;49m -> \u001b[0m\u001b[32;49m25.2\u001b[0m\n",
      "\u001b[1m[\u001b[0m\u001b[34;49mnotice\u001b[0m\u001b[1;39;49m]\u001b[0m\u001b[39;49m To update, run: \u001b[0m\u001b[32;49m/opt/homebrew/opt/python@3.10/bin/python3.10 -m pip install --upgrade pip\u001b[0m\n",
      "Note: you may need to restart the kernel to use updated packages.\n"
     ]
    }
   ],
   "source": [
    "%pip install bs4"
   ]
  }
 ],
 "metadata": {
  "kernelspec": {
   "display_name": "Python 3",
   "language": "python",
   "name": "python3"
  },
  "language_info": {
   "codemirror_mode": {
    "name": "ipython",
    "version": 3
   },
   "file_extension": ".py",
   "mimetype": "text/x-python",
   "name": "python",
   "nbconvert_exporter": "python",
   "pygments_lexer": "ipython3",
   "version": "3.10.18"
  }
 },
 "nbformat": 4,
 "nbformat_minor": 2
}
