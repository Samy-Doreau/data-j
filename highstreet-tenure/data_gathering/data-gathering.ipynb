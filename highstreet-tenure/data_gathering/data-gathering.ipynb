{
 "cells": [
  {
   "cell_type": "code",
   "execution_count": null,
   "metadata": {},
   "outputs": [],
   "source": [
    "%pip install pandas"
   ]
  },
  {
   "cell_type": "markdown",
   "metadata": {},
   "source": [
    "# Gathering data from council XLS files"
   ]
  },
  {
   "cell_type": "code",
   "execution_count": 15,
   "metadata": {},
   "outputs": [],
   "source": [
    "import pandas as pd\n",
    "import requests\n",
    "import os\n",
    "\n",
    "# Create list of target URLs to download\n",
    "classified_urls_df = pd.read_csv('../wayback/url_classified.csv')\n",
    "classified_urls_df['target_url'] = classified_urls_df['wayback_download_url'].str.split('id_/').str[1]\n",
    "\n",
    "list_new_businesses = classified_urls_df[classified_urls_df['category'] == 'new_businesses']['target_url'].dropna().unique()\n",
    "list_accounts_no_relief = classified_urls_df[classified_urls_df['category'] == 'accounts_no_relief']['target_url'].dropna().unique()\n",
    "list_account_relief = classified_urls_df[classified_urls_df['category'] == 'accounts_relief']['target_url'].dropna().unique()\n",
    "list_accouts_closed = classified_urls_df[classified_urls_df['category'] == 'accounts_closed']['target_url'].dropna().unique()\n",
    "list_account_current_in_credit = classified_urls_df[classified_urls_df['category'] == 'accounts_current_in_credit']['target_url'].dropna().unique()\n",
    "\n",
    "# Download raw files to local\n",
    "save_dirs = ['new_businesses', 'accounts_no_relief', 'accounts_relief', 'accounts_closed', 'accounts_current_in_credit']\n",
    "\n",
    "config = {\n",
    "    'new_businesses': {\n",
    "        'urls': list_new_businesses,\n",
    "        'save_dir': 'new_businesses',\n",
    "    },\n",
    "    'accounts_no_relief': {\n",
    "        'urls': list_accounts_no_relief,\n",
    "        'save_dir': 'accounts_no_relief',\n",
    "    },\n",
    "    'accounts_relief': {\n",
    "        'urls': list_account_relief,\n",
    "        'save_dir': 'accounts_relief',\n",
    "    },\n",
    "    'accounts_closed': {\n",
    "        'urls': list_accouts_closed,\n",
    "        'save_dir': 'accounts_closed',\n",
    "    },\n",
    "    'accounts_current_in_credit': {\n",
    "        'urls': list_account_current_in_credit,\n",
    "        'save_dir': 'accounts_current_in_credit',\n",
    "    },\n",
    "}\n",
    "\n",
    "for save_dir in save_dirs:\n",
    "    os.makedirs('raw_files/' + save_dir, exist_ok=True)\n",
    "\n",
    "for category, config in config.items():\n",
    "    for url in config['urls']:\n",
    "        raw_file_name = url.split('/')[-1]\n",
    "        # Stream the content and write it to disk\n",
    "        with requests.get(url, stream=True) as r:\n",
    "            r.raise_for_status()  # raises exception if download failed\n",
    "            with open('raw_files/' + config['save_dir'] + '/' + raw_file_name, \"wb\") as f:\n",
    "                for chunk in r.iter_content(chunk_size=8192):\n",
    "                    f.write(chunk)\n"
   ]
  },
  {
   "cell_type": "markdown",
   "metadata": {},
   "source": [
    "## Sanitization"
   ]
  },
  {
   "cell_type": "code",
   "execution_count": 17,
   "metadata": {},
   "outputs": [
    {
     "name": "stdout",
     "output_type": "stream",
     "text": [
      "Processing raw_files/new_businesses/NNDR%20New%20Businesses%20from%20June%20to%20October%202023.xlsx\n",
      "Processing raw_files/new_businesses/NNDR_New%20Businesses%20from%20October20%20to%20January21.xlsx\n",
      "Processing raw_files/new_businesses/New%20Businesses%20July-Sept20_0.xlsx\n",
      "Processing raw_files/new_businesses/New%20Businesses%20from%20October%202021%20to%20March%202022.xlsx\n",
      "Processing raw_files/new_businesses/New%20Businesses%20from%20April22%20to%20August22.xlsx\n",
      "Processing raw_files/new_businesses/NNDR_New%20Businesses%20from%20Nov23%20to%20March24.xlsx\n",
      "Processing raw_files/new_businesses/New%20Businesses%20from%20July%20to%20September21.xlsx\n",
      "Processing raw_files/new_businesses/NNDR%20New%20Businesses%20from%20September%202022%20to%20January%202023.xlsx\n",
      "Processing raw_files/new_businesses/NNDR%20New%20Businesses_February%20to%20May2023.xlsx\n",
      "Processing raw_files/new_businesses/~$New%20Businesses%20from%20April22%20to%20August22.xlsx\n",
      "Processing raw_files/new_businesses/New%20businesses%20from%20February%20to%20June21.xlsx\n"
     ]
    }
   ],
   "source": [
    "import pandas as pd\n",
    "from pathlib import Path\n",
    "\n",
    "folder_path = 'raw_files/new_businesses'\n",
    "column_mapping = {\n",
    "    \"Current Analysis Code Description\": \"current_analysis_code_description\",\n",
    "    \"Primary Liable party name\": \"primary_liable_party_name\",\n",
    "    \"Property Reference Number\": \"property_reference_number\",\n",
    "    \"Full Property Address\": \"full_property_address\",\n",
    "    \"Liable Responsibility Start Date\": \"liable_responsibility_start_date\",\n",
    "    \"Current Rateable Value\": \"current_rateable_value\",\n",
    "}\n",
    "\n",
    "all_dataframes = []\n",
    "for file_path in Path(folder_path).glob('*.xlsx'):\n",
    "    print(f'Processing {file_path}')\n",
    "    # Load Excel file into pandas\n",
    "    df = pd.read_excel(file_path, sheet_name=0)  # sheet_name=0 loads first sheet\n",
    "    # Rename columns using the mapping\n",
    "    df = df.rename(columns=column_mapping)\n",
    "    # Add filename column for reference\n",
    "    df['source_file'] = file_path.name\n",
    "    # Store the dataframe\n",
    "    all_dataframes.append(df)\n",
    "    print(f\"Successfully loaded: {file_path.name} with {len(df)} rows\")"
   ]
  }
 ],
 "metadata": {
  "kernelspec": {
   "display_name": "Python 3",
   "language": "python",
   "name": "python3"
  },
  "language_info": {
   "codemirror_mode": {
    "name": "ipython",
    "version": 3
   },
   "file_extension": ".py",
   "mimetype": "text/x-python",
   "name": "python",
   "nbconvert_exporter": "python",
   "pygments_lexer": "ipython3",
   "version": "3.10.18"
  }
 },
 "nbformat": 4,
 "nbformat_minor": 2
}
